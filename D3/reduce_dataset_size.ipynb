{
 "cells": [
  {
   "cell_type": "code",
   "execution_count": 1,
   "metadata": {
    "collapsed": false
   },
   "outputs": [
    {
     "data": {
      "text/plain": [
       "([20, 25, 30, 35, 40, 45, 50, 55, 60, 65, 70, 75, 80, 85, 90],\n",
       " [24, 29, 34, 39, 44, 49, 54, 59, 64, 69, 74, 79, 84, 89, 94])"
      ]
     },
     "execution_count": 1,
     "metadata": {},
     "output_type": "execute_result"
    }
   ],
   "source": [
    "x = list(range(20, 91, 5))\n",
    "y = list(range(24, 95, 5))\n",
    "x, y"
   ]
  },
  {
   "cell_type": "code",
   "execution_count": 2,
   "metadata": {
    "collapsed": false
   },
   "outputs": [
    {
     "name": "stdout",
     "output_type": "stream",
     "text": [
      "'20-24',\n",
      "'25-29',\n",
      "'30-34',\n",
      "'35-39',\n",
      "'40-44',\n",
      "'45-49',\n",
      "'50-54',\n",
      "'55-59',\n",
      "'60-64',\n",
      "'65-69',\n",
      "'70-74',\n",
      "'75-79',\n",
      "'80-84',\n",
      "'85-89',\n",
      "'90-94',\n"
     ]
    }
   ],
   "source": [
    "for a, b in zip(x, y):\n",
    "    print(\"'{}-{}',\".format(a, b))"
   ]
  },
  {
   "cell_type": "code",
   "execution_count": 31,
   "metadata": {
    "collapsed": false
   },
   "outputs": [
    {
     "name": "stdout",
     "output_type": "stream",
     "text": [
      "d['20-24_men'], d['25-29_men'], d['30-34_men'], d['35-39_men'], d['40-44_men'], d['45-49_men'], d['50-54_men'], d['55-59_men'], d['60-64_men'], d['65-69_men'], d['70-74_men'], d['75-79_men'], d['80-84_men'], d['85-89_men'], d['90-94_men'],\n"
     ]
    },
    {
     "data": {
      "text/plain": [
       "['Ledige20-24 JahreFrauen Total+/-',\n",
       " 'Ledige25-29 JahreFrauen Total+/-',\n",
       " 'Ledige30-34 JahreFrauen Total+/-',\n",
       " 'Ledige35-39 JahreFrauen Total+/-',\n",
       " 'Ledige40-44 JahreFrauen Total+/-',\n",
       " 'Ledige45-49 JahreFrauen Total+/-',\n",
       " 'Ledige50-54 JahreFrauen Total+/-',\n",
       " 'Ledige55-59 JahreFrauen Total+/-',\n",
       " 'Ledige60-64 JahreFrauen Total+/-',\n",
       " 'Ledige65-69 JahreFrauen Total+/-',\n",
       " 'Ledige70-74 JahreFrauen Total+/-',\n",
       " 'Ledige75-79 JahreFrauen Total+/-',\n",
       " 'Ledige80-84 JahreFrauen Total+/-',\n",
       " 'Ledige85-89 JahreFrauen Total+/-',\n",
       " 'Ledige90-94 JahreFrauen Total+/-']"
      ]
     },
     "execution_count": 31,
     "metadata": {},
     "output_type": "execute_result"
    }
   ],
   "source": [
    "cols = []\n",
    "csvFemalecols = []\n",
    "newMaleCols = []\n",
    "for a, b in zip(x, y):\n",
    "    cols.append(\"d['{}-{}_men'],\".format(a, b))\n",
    "    newMaleCols.append(\"{}-{}_men\".format(a, b))\n",
    "    csvFemalecols.append(\"Ledige{}-{} JahreFrauen Total+/-\".format(a, b))\n",
    "print(*cols)\n",
    "csvFemalecols"
   ]
  },
  {
   "cell_type": "code",
   "execution_count": 4,
   "metadata": {
    "collapsed": false
   },
   "outputs": [],
   "source": [
    "import pandas as pd"
   ]
  },
  {
   "cell_type": "code",
   "execution_count": 5,
   "metadata": {
    "collapsed": true
   },
   "outputs": [],
   "source": [
    "df = pd.read_csv('final_dataset_totals_id.csv')"
   ]
  },
  {
   "cell_type": "code",
   "execution_count": 6,
   "metadata": {
    "collapsed": false
   },
   "outputs": [
    {
     "data": {
      "text/html": [
       "<div>\n",
       "<table border=\"1\" class=\"dataframe\">\n",
       "  <thead>\n",
       "    <tr style=\"text-align: right;\">\n",
       "      <th></th>\n",
       "      <th>GDENR</th>\n",
       "      <th>Gemeinde</th>\n",
       "      <th>Ledige Männer Total +/-</th>\n",
       "      <th>Ledige Frauen Total +/-</th>\n",
       "      <th>Ledige20-24 JahreFrauen Total+/-</th>\n",
       "      <th>Ledige20-24 JahreMänner Total+/-</th>\n",
       "      <th>Ledige25-29 JahreFrauen Total+/-</th>\n",
       "      <th>Ledige25-29 JahreMänner Total+/-</th>\n",
       "      <th>Ledige30-34 JahreFrauen Total+/-</th>\n",
       "      <th>Ledige30-34 JahreMänner Total+/-</th>\n",
       "      <th>...</th>\n",
       "      <th>Ledige70-74 JahreFrauen Total+/-</th>\n",
       "      <th>Ledige70-74 JahreMänner Total+/-</th>\n",
       "      <th>Ledige75-79 JahreFrauen Total+/-</th>\n",
       "      <th>Ledige75-79 JahreMänner Total+/-</th>\n",
       "      <th>Ledige80-84 JahreFrauen Total+/-</th>\n",
       "      <th>Ledige80-84 JahreMänner Total+/-</th>\n",
       "      <th>Ledige85-89 JahreFrauen Total+/-</th>\n",
       "      <th>Ledige85-89 JahreMänner Total+/-</th>\n",
       "      <th>Ledige90-94 JahreFrauen Total+/-</th>\n",
       "      <th>Ledige90-94 JahreMänner Total+/-</th>\n",
       "    </tr>\n",
       "  </thead>\n",
       "  <tbody>\n",
       "    <tr>\n",
       "      <th>0</th>\n",
       "      <td>1</td>\n",
       "      <td>Aeugst am Albis</td>\n",
       "      <td>-27</td>\n",
       "      <td>27</td>\n",
       "      <td>-11</td>\n",
       "      <td>11</td>\n",
       "      <td>-8</td>\n",
       "      <td>8</td>\n",
       "      <td>-3</td>\n",
       "      <td>3</td>\n",
       "      <td>...</td>\n",
       "      <td>9</td>\n",
       "      <td>-9</td>\n",
       "      <td>5</td>\n",
       "      <td>-5</td>\n",
       "      <td>16</td>\n",
       "      <td>-16</td>\n",
       "      <td>15</td>\n",
       "      <td>-15</td>\n",
       "      <td>4</td>\n",
       "      <td>-4</td>\n",
       "    </tr>\n",
       "    <tr>\n",
       "      <th>1</th>\n",
       "      <td>2</td>\n",
       "      <td>Affoltern am Albis</td>\n",
       "      <td>-111</td>\n",
       "      <td>111</td>\n",
       "      <td>-82</td>\n",
       "      <td>82</td>\n",
       "      <td>-71</td>\n",
       "      <td>71</td>\n",
       "      <td>-67</td>\n",
       "      <td>67</td>\n",
       "      <td>...</td>\n",
       "      <td>60</td>\n",
       "      <td>-60</td>\n",
       "      <td>80</td>\n",
       "      <td>-80</td>\n",
       "      <td>86</td>\n",
       "      <td>-86</td>\n",
       "      <td>56</td>\n",
       "      <td>-56</td>\n",
       "      <td>30</td>\n",
       "      <td>-30</td>\n",
       "    </tr>\n",
       "    <tr>\n",
       "      <th>2</th>\n",
       "      <td>3</td>\n",
       "      <td>Bonstetten</td>\n",
       "      <td>-103</td>\n",
       "      <td>103</td>\n",
       "      <td>-14</td>\n",
       "      <td>14</td>\n",
       "      <td>13</td>\n",
       "      <td>-13</td>\n",
       "      <td>-6</td>\n",
       "      <td>6</td>\n",
       "      <td>...</td>\n",
       "      <td>18</td>\n",
       "      <td>-18</td>\n",
       "      <td>25</td>\n",
       "      <td>-25</td>\n",
       "      <td>14</td>\n",
       "      <td>-14</td>\n",
       "      <td>8</td>\n",
       "      <td>-8</td>\n",
       "      <td>6</td>\n",
       "      <td>-6</td>\n",
       "    </tr>\n",
       "    <tr>\n",
       "      <th>3</th>\n",
       "      <td>4</td>\n",
       "      <td>Hausen am Albis</td>\n",
       "      <td>-113</td>\n",
       "      <td>113</td>\n",
       "      <td>-19</td>\n",
       "      <td>19</td>\n",
       "      <td>13</td>\n",
       "      <td>-13</td>\n",
       "      <td>0</td>\n",
       "      <td>0</td>\n",
       "      <td>...</td>\n",
       "      <td>6</td>\n",
       "      <td>-6</td>\n",
       "      <td>24</td>\n",
       "      <td>-24</td>\n",
       "      <td>14</td>\n",
       "      <td>-14</td>\n",
       "      <td>10</td>\n",
       "      <td>-10</td>\n",
       "      <td>4</td>\n",
       "      <td>-4</td>\n",
       "    </tr>\n",
       "    <tr>\n",
       "      <th>4</th>\n",
       "      <td>5</td>\n",
       "      <td>Hedingen</td>\n",
       "      <td>10</td>\n",
       "      <td>-10</td>\n",
       "      <td>-16</td>\n",
       "      <td>16</td>\n",
       "      <td>-11</td>\n",
       "      <td>11</td>\n",
       "      <td>-34</td>\n",
       "      <td>34</td>\n",
       "      <td>...</td>\n",
       "      <td>2</td>\n",
       "      <td>-2</td>\n",
       "      <td>4</td>\n",
       "      <td>-4</td>\n",
       "      <td>13</td>\n",
       "      <td>-13</td>\n",
       "      <td>12</td>\n",
       "      <td>-12</td>\n",
       "      <td>1</td>\n",
       "      <td>-1</td>\n",
       "    </tr>\n",
       "  </tbody>\n",
       "</table>\n",
       "<p>5 rows × 34 columns</p>\n",
       "</div>"
      ],
      "text/plain": [
       "   GDENR            Gemeinde  Ledige Männer Total +/-  \\\n",
       "0      1     Aeugst am Albis                      -27   \n",
       "1      2  Affoltern am Albis                     -111   \n",
       "2      3          Bonstetten                     -103   \n",
       "3      4     Hausen am Albis                     -113   \n",
       "4      5            Hedingen                       10   \n",
       "\n",
       "   Ledige Frauen Total +/-  Ledige20-24 JahreFrauen Total+/-  \\\n",
       "0                       27                               -11   \n",
       "1                      111                               -82   \n",
       "2                      103                               -14   \n",
       "3                      113                               -19   \n",
       "4                      -10                               -16   \n",
       "\n",
       "   Ledige20-24 JahreMänner Total+/-  Ledige25-29 JahreFrauen Total+/-  \\\n",
       "0                                11                                -8   \n",
       "1                                82                               -71   \n",
       "2                                14                                13   \n",
       "3                                19                                13   \n",
       "4                                16                               -11   \n",
       "\n",
       "   Ledige25-29 JahreMänner Total+/-  Ledige30-34 JahreFrauen Total+/-  \\\n",
       "0                                 8                                -3   \n",
       "1                                71                               -67   \n",
       "2                               -13                                -6   \n",
       "3                               -13                                 0   \n",
       "4                                11                               -34   \n",
       "\n",
       "   Ledige30-34 JahreMänner Total+/-                ...                 \\\n",
       "0                                 3                ...                  \n",
       "1                                67                ...                  \n",
       "2                                 6                ...                  \n",
       "3                                 0                ...                  \n",
       "4                                34                ...                  \n",
       "\n",
       "   Ledige70-74 JahreFrauen Total+/-  Ledige70-74 JahreMänner Total+/-  \\\n",
       "0                                 9                                -9   \n",
       "1                                60                               -60   \n",
       "2                                18                               -18   \n",
       "3                                 6                                -6   \n",
       "4                                 2                                -2   \n",
       "\n",
       "   Ledige75-79 JahreFrauen Total+/-  Ledige75-79 JahreMänner Total+/-  \\\n",
       "0                                 5                                -5   \n",
       "1                                80                               -80   \n",
       "2                                25                               -25   \n",
       "3                                24                               -24   \n",
       "4                                 4                                -4   \n",
       "\n",
       "   Ledige80-84 JahreFrauen Total+/-  Ledige80-84 JahreMänner Total+/-  \\\n",
       "0                                16                               -16   \n",
       "1                                86                               -86   \n",
       "2                                14                               -14   \n",
       "3                                14                               -14   \n",
       "4                                13                               -13   \n",
       "\n",
       "   Ledige85-89 JahreFrauen Total+/-  Ledige85-89 JahreMänner Total+/-  \\\n",
       "0                                15                               -15   \n",
       "1                                56                               -56   \n",
       "2                                 8                                -8   \n",
       "3                                10                               -10   \n",
       "4                                12                               -12   \n",
       "\n",
       "   Ledige90-94 JahreFrauen Total+/-  Ledige90-94 JahreMänner Total+/-  \n",
       "0                                 4                                -4  \n",
       "1                                30                               -30  \n",
       "2                                 6                                -6  \n",
       "3                                 4                                -4  \n",
       "4                                 1                                -1  \n",
       "\n",
       "[5 rows x 34 columns]"
      ]
     },
     "execution_count": 6,
     "metadata": {},
     "output_type": "execute_result"
    }
   ],
   "source": [
    "df.head()"
   ]
  },
  {
   "cell_type": "code",
   "execution_count": 11,
   "metadata": {
    "collapsed": false
   },
   "outputs": [],
   "source": [
    "csv_cols = df.columns"
   ]
  },
  {
   "cell_type": "code",
   "execution_count": 12,
   "metadata": {
    "collapsed": false
   },
   "outputs": [
    {
     "data": {
      "text/plain": [
       "34"
      ]
     },
     "execution_count": 12,
     "metadata": {},
     "output_type": "execute_result"
    }
   ],
   "source": [
    "len(csv_cols)"
   ]
  },
  {
   "cell_type": "code",
   "execution_count": 19,
   "metadata": {
    "collapsed": false
   },
   "outputs": [],
   "source": [
    "for col in csvFemalecols:\n",
    "    del df[col]"
   ]
  },
  {
   "cell_type": "code",
   "execution_count": 22,
   "metadata": {
    "collapsed": false
   },
   "outputs": [],
   "source": [
    "del df['Ledige Frauen Total +/-']"
   ]
  },
  {
   "cell_type": "code",
   "execution_count": 29,
   "metadata": {
    "collapsed": false
   },
   "outputs": [
    {
     "data": {
      "text/plain": [
       "18"
      ]
     },
     "execution_count": 29,
     "metadata": {},
     "output_type": "execute_result"
    }
   ],
   "source": [
    "newColumns = ['GDENR', 'Gemeinde', 'Ledige Männer Total +/-']\n",
    "newColumns.extend(newMaleCols)\n",
    "len(newColumns)"
   ]
  },
  {
   "cell_type": "code",
   "execution_count": 30,
   "metadata": {
    "collapsed": false
   },
   "outputs": [],
   "source": [
    "df.columns = newColumns\n",
    "df.to_csv('singles_dataset.csv', index=False)"
   ]
  },
  {
   "cell_type": "code",
   "execution_count": 41,
   "metadata": {
    "collapsed": false
   },
   "outputs": [],
   "source": [
    "df_total = df[['GDENR', 'Gemeinde', 'Ledige Männer Total +/-']]\n",
    "df_total.head()\n",
    "df_total.columns = ['GDENR', 'Gemeinde', 'Singles_total']\n",
    "df_total.to_csv('singles_total.csv', index=False)"
   ]
  },
  {
   "cell_type": "code",
   "execution_count": 42,
   "metadata": {
    "collapsed": false
   },
   "outputs": [],
   "source": [
    "selColumns = ['GDENR']\n",
    "selColumns.extend(newMaleCols)\n",
    "df_age_spans = df[selColumns]\n",
    "df_age_spans.head()\n",
    "df_age_spans.to_csv('singles_by_age.csv', index=False)"
   ]
  }
 ],
 "metadata": {
  "kernelspec": {
   "display_name": "Python 3",
   "language": "python",
   "name": "python3"
  },
  "language_info": {
   "codemirror_mode": {
    "name": "ipython",
    "version": 3
   },
   "file_extension": ".py",
   "mimetype": "text/x-python",
   "name": "python",
   "nbconvert_exporter": "python",
   "pygments_lexer": "ipython3",
   "version": "3.5.1"
  },
  "widgets": {
   "state": {},
   "version": "1.1.2"
  }
 },
 "nbformat": 4,
 "nbformat_minor": 0
}
