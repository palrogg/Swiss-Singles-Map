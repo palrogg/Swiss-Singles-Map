{
 "cells": [
  {
   "cell_type": "code",
   "execution_count": 1,
   "metadata": {
    "collapsed": true
   },
   "outputs": [],
   "source": [
    "import pandas as pd\n",
    "import matplotlib.pyplot as plt\n",
    "import numpy as np\n",
    "%matplotlib inline\n",
    "import dateutil.parser\n",
    "import re"
   ]
  },
  {
   "cell_type": "markdown",
   "metadata": {},
   "source": [
    "# Wo leben am meisten überschüssige Ledige?"
   ]
  },
  {
   "cell_type": "code",
   "execution_count": 28,
   "metadata": {
    "collapsed": true
   },
   "outputs": [],
   "source": [
    "df_m = pd.read_csv('data/ledige_männer_2015.csv')\n",
    "df_w = pd.read_csv('data/ledige_frauen_2015.csv')"
   ]
  },
  {
   "cell_type": "code",
   "execution_count": 29,
   "metadata": {
    "collapsed": true
   },
   "outputs": [],
   "source": [
    "df = df_w.merge(df_m, left_on='Gemeinde', right_on='Gemeinde')"
   ]
  },
  {
   "cell_type": "markdown",
   "metadata": {},
   "source": [
    "# Total"
   ]
  },
  {
   "cell_type": "code",
   "execution_count": 30,
   "metadata": {
    "collapsed": false
   },
   "outputs": [],
   "source": [
    "del_col = [i for i in df.columns if i.find('Ledige') < 0 and i.find('Gemeinde') < 0]\n",
    "for col in del_col:\n",
    "    del df[col]"
   ]
  },
  {
   "cell_type": "code",
   "execution_count": 31,
   "metadata": {
    "collapsed": false
   },
   "outputs": [
    {
     "data": {
      "text/html": [
       "<div>\n",
       "<table border=\"1\" class=\"dataframe\">\n",
       "  <thead>\n",
       "    <tr style=\"text-align: right;\">\n",
       "      <th></th>\n",
       "      <th>Gemeinde</th>\n",
       "      <th>Ledige20-24 JahreFrauen Total</th>\n",
       "      <th>Ledige25-29 JahreFrauen Total</th>\n",
       "      <th>Ledige30-34 JahreFrauen Total</th>\n",
       "      <th>Ledige35-39 JahreFrauen Total</th>\n",
       "      <th>Ledige40-44 JahreFrauen Total</th>\n",
       "      <th>Ledige45-49 JahreFrauen Total</th>\n",
       "      <th>Ledige50-54 JahreFrauen Total</th>\n",
       "      <th>Ledige55-59 JahreFrauen Total</th>\n",
       "      <th>Ledige60-64 JahreFrauen Total</th>\n",
       "      <th>...</th>\n",
       "      <th>Ledige55-59 JahreMänner Total</th>\n",
       "      <th>Ledige60-64 JahreMänner Total</th>\n",
       "      <th>Ledige65-69 JahreMänner Total</th>\n",
       "      <th>Ledige70-74 JahreMänner Total</th>\n",
       "      <th>Ledige75-79 JahreMänner Total</th>\n",
       "      <th>Ledige80-84 JahreMänner Total</th>\n",
       "      <th>Ledige85-89 JahreMänner Total</th>\n",
       "      <th>Ledige90-94 JahreMänner Total</th>\n",
       "      <th>Ledige95-99 JahreMänner Total</th>\n",
       "      <th>Ledige100 Jahre und mehrMänner Total</th>\n",
       "    </tr>\n",
       "  </thead>\n",
       "  <tbody>\n",
       "    <tr>\n",
       "      <th>2242</th>\n",
       "      <td>......6621 Genève</td>\n",
       "      <td>5617</td>\n",
       "      <td>6691</td>\n",
       "      <td>5635</td>\n",
       "      <td>4243</td>\n",
       "      <td>3616</td>\n",
       "      <td>3237</td>\n",
       "      <td>3386</td>\n",
       "      <td>2809</td>\n",
       "      <td>2655</td>\n",
       "      <td>...</td>\n",
       "      <td>2128</td>\n",
       "      <td>1632</td>\n",
       "      <td>1316</td>\n",
       "      <td>1054</td>\n",
       "      <td>779</td>\n",
       "      <td>591</td>\n",
       "      <td>423</td>\n",
       "      <td>219</td>\n",
       "      <td>42</td>\n",
       "      <td>9</td>\n",
       "    </tr>\n",
       "  </tbody>\n",
       "</table>\n",
       "<p>1 rows × 35 columns</p>\n",
       "</div>"
      ],
      "text/plain": [
       "               Gemeinde  Ledige20-24 JahreFrauen Total  \\\n",
       "2242  ......6621 Genève                           5617   \n",
       "\n",
       "      Ledige25-29 JahreFrauen Total  Ledige30-34 JahreFrauen Total  \\\n",
       "2242                           6691                           5635   \n",
       "\n",
       "      Ledige35-39 JahreFrauen Total  Ledige40-44 JahreFrauen Total  \\\n",
       "2242                           4243                           3616   \n",
       "\n",
       "      Ledige45-49 JahreFrauen Total  Ledige50-54 JahreFrauen Total  \\\n",
       "2242                           3237                           3386   \n",
       "\n",
       "      Ledige55-59 JahreFrauen Total  Ledige60-64 JahreFrauen Total  \\\n",
       "2242                           2809                           2655   \n",
       "\n",
       "                      ...                   Ledige55-59 JahreMänner Total  \\\n",
       "2242                  ...                                            2128   \n",
       "\n",
       "      Ledige60-64 JahreMänner Total  Ledige65-69 JahreMänner Total  \\\n",
       "2242                           1632                           1316   \n",
       "\n",
       "      Ledige70-74 JahreMänner Total  Ledige75-79 JahreMänner Total  \\\n",
       "2242                           1054                            779   \n",
       "\n",
       "      Ledige80-84 JahreMänner Total  Ledige85-89 JahreMänner Total  \\\n",
       "2242                            591                            423   \n",
       "\n",
       "      Ledige90-94 JahreMänner Total  Ledige95-99 JahreMänner Total  \\\n",
       "2242                            219                             42   \n",
       "\n",
       "      Ledige100 Jahre und mehrMänner Total  \n",
       "2242                                     9  \n",
       "\n",
       "[1 rows x 35 columns]"
      ]
     },
     "execution_count": 31,
     "metadata": {},
     "output_type": "execute_result"
    }
   ],
   "source": [
    "df[df['Gemeinde'].str.contains('Genè')]"
   ]
  },
  {
   "cell_type": "code",
   "execution_count": 32,
   "metadata": {
    "collapsed": false
   },
   "outputs": [
    {
     "data": {
      "text/plain": [
       "Index(['Gemeinde', 'Ledige20-24 JahreFrauen Total',\n",
       "       'Ledige25-29 JahreFrauen Total', 'Ledige30-34 JahreFrauen Total',\n",
       "       'Ledige35-39 JahreFrauen Total', 'Ledige40-44 JahreFrauen Total',\n",
       "       'Ledige45-49 JahreFrauen Total', 'Ledige50-54 JahreFrauen Total',\n",
       "       'Ledige55-59 JahreFrauen Total', 'Ledige60-64 JahreFrauen Total',\n",
       "       'Ledige65-69 JahreFrauen Total', 'Ledige70-74 JahreFrauen Total',\n",
       "       'Ledige75-79 JahreFrauen Total', 'Ledige80-84 JahreFrauen Total',\n",
       "       'Ledige85-89 JahreFrauen Total', 'Ledige90-94 JahreFrauen Total',\n",
       "       'Ledige20-24 JahreMänner Total', 'Ledige25-29 JahreMänner Total',\n",
       "       'Ledige30-34 JahreMänner Total', 'Ledige35-39 JahreMänner Total',\n",
       "       'Ledige40-44 JahreMänner Total', 'Ledige45-49 JahreMänner Total',\n",
       "       'Ledige50-54 JahreMänner Total', 'Ledige55-59 JahreMänner Total',\n",
       "       'Ledige60-64 JahreMänner Total', 'Ledige65-69 JahreMänner Total',\n",
       "       'Ledige70-74 JahreMänner Total', 'Ledige75-79 JahreMänner Total',\n",
       "       'Ledige80-84 JahreMänner Total', 'Ledige85-89 JahreMänner Total',\n",
       "       'Ledige90-94 JahreMänner Total'],\n",
       "      dtype='object')"
      ]
     },
     "execution_count": 32,
     "metadata": {},
     "output_type": "execute_result"
    }
   ],
   "source": [
    "for col in ['Ledige95-99 JahreFrauen Total', 'Ledige100 Jahre und mehrFrauen Total', 'Ledige95-99 JahreMänner Total',\n",
    "       'Ledige100 Jahre und mehrMänner Total']:\n",
    "    del df[col]\n",
    "df.columns"
   ]
  },
  {
   "cell_type": "code",
   "execution_count": 26,
   "metadata": {
    "collapsed": false
   },
   "outputs": [],
   "source": [
    "#cols = [i.replace('Ledige', 'Single').replace('Jahre','').replace('Frauen', 'Women').replace('Männer','Men').replace('Total','').replace(' ','') for i in df.columns]\n",
    "#df.columns = cols"
   ]
  },
  {
   "cell_type": "code",
   "execution_count": 33,
   "metadata": {
    "collapsed": false
   },
   "outputs": [],
   "source": [
    "df.to_csv('data/raw_totals.csv')"
   ]
  },
  {
   "cell_type": "code",
   "execution_count": null,
   "metadata": {
    "collapsed": true
   },
   "outputs": [],
   "source": []
  },
  {
   "cell_type": "code",
   "execution_count": null,
   "metadata": {
    "collapsed": true
   },
   "outputs": [],
   "source": []
  },
  {
   "cell_type": "code",
   "execution_count": null,
   "metadata": {
    "collapsed": false
   },
   "outputs": [],
   "source": [
    "df[df['Gemeinde'].str.contains('Genè')]['Ledige Männer Total +/-']"
   ]
  },
  {
   "cell_type": "code",
   "execution_count": null,
   "metadata": {
    "collapsed": false
   },
   "outputs": [],
   "source": [
    "ledigeFrauenCols = [i for i in df.columns if i.find('JahreFrauen') >= 0][:-1]\n",
    "df[df['Gemeinde'].str.contains('Genè')][ledigeFrauenCols]"
   ]
  },
  {
   "cell_type": "code",
   "execution_count": 12,
   "metadata": {
    "collapsed": false
   },
   "outputs": [
    {
     "data": {
      "text/html": [
       "<div>\n",
       "<table border=\"1\" class=\"dataframe\">\n",
       "  <thead>\n",
       "    <tr style=\"text-align: right;\">\n",
       "      <th></th>\n",
       "      <th>Gemeinde</th>\n",
       "      <th>Frauen - Total</th>\n",
       "      <th>Total ledige Frauen ab 20</th>\n",
       "      <th>Anteil ledige Frauen</th>\n",
       "      <th>Ledige20-24 JahreFrauen Total</th>\n",
       "      <th>Anteil20-24 Jahre_x</th>\n",
       "      <th>Ledige25-29 JahreFrauen Total</th>\n",
       "      <th>Anteil25-29 Jahre_x</th>\n",
       "      <th>Ledige30-34 JahreFrauen Total</th>\n",
       "      <th>Anteil30-34 Jahre_x</th>\n",
       "      <th>...</th>\n",
       "      <th>Ledige70-74 JahreFrauen Total+/-</th>\n",
       "      <th>Ledige70-74 JahreMänner Total+/-</th>\n",
       "      <th>Ledige75-79 JahreFrauen Total+/-</th>\n",
       "      <th>Ledige75-79 JahreMänner Total+/-</th>\n",
       "      <th>Ledige80-84 JahreFrauen Total+/-</th>\n",
       "      <th>Ledige80-84 JahreMänner Total+/-</th>\n",
       "      <th>Ledige85-89 JahreFrauen Total+/-</th>\n",
       "      <th>Ledige85-89 JahreMänner Total+/-</th>\n",
       "      <th>Ledige90-94 JahreFrauen Total+/-</th>\n",
       "      <th>Ledige90-94 JahreMänner Total+/-</th>\n",
       "    </tr>\n",
       "  </thead>\n",
       "  <tbody>\n",
       "    <tr>\n",
       "      <th>2242</th>\n",
       "      <td>......6621 Genève</td>\n",
       "      <td>102926</td>\n",
       "      <td>67625</td>\n",
       "      <td>65.7</td>\n",
       "      <td>5617</td>\n",
       "      <td>5.5</td>\n",
       "      <td>6691</td>\n",
       "      <td>6.5</td>\n",
       "      <td>5635</td>\n",
       "      <td>5.5</td>\n",
       "      <td>...</td>\n",
       "      <td>1466</td>\n",
       "      <td>-1466</td>\n",
       "      <td>1266</td>\n",
       "      <td>-1266</td>\n",
       "      <td>1499</td>\n",
       "      <td>-1499</td>\n",
       "      <td>1437</td>\n",
       "      <td>-1437</td>\n",
       "      <td>932</td>\n",
       "      <td>-932</td>\n",
       "    </tr>\n",
       "  </tbody>\n",
       "</table>\n",
       "<p>1 rows × 105 columns</p>\n",
       "</div>"
      ],
      "text/plain": [
       "               Gemeinde  Frauen - Total  Total ledige Frauen ab 20  \\\n",
       "2242  ......6621 Genève          102926                      67625   \n",
       "\n",
       "      Anteil ledige Frauen  Ledige20-24 JahreFrauen Total  \\\n",
       "2242                  65.7                           5617   \n",
       "\n",
       "      Anteil20-24 Jahre_x  Ledige25-29 JahreFrauen Total  Anteil25-29 Jahre_x  \\\n",
       "2242                  5.5                           6691                  6.5   \n",
       "\n",
       "      Ledige30-34 JahreFrauen Total  Anteil30-34 Jahre_x  \\\n",
       "2242                           5635                  5.5   \n",
       "\n",
       "                    ...                 Ledige70-74 JahreFrauen Total+/-  \\\n",
       "2242                ...                                             1466   \n",
       "\n",
       "      Ledige70-74 JahreMänner Total+/-  Ledige75-79 JahreFrauen Total+/-  \\\n",
       "2242                             -1466                              1266   \n",
       "\n",
       "      Ledige75-79 JahreMänner Total+/-  Ledige80-84 JahreFrauen Total+/-  \\\n",
       "2242                             -1266                              1499   \n",
       "\n",
       "      Ledige80-84 JahreMänner Total+/-  Ledige85-89 JahreFrauen Total+/-  \\\n",
       "2242                             -1499                              1437   \n",
       "\n",
       "      Ledige85-89 JahreMänner Total+/-  Ledige90-94 JahreFrauen Total+/-  \\\n",
       "2242                             -1437                               932   \n",
       "\n",
       "      Ledige90-94 JahreMänner Total+/-  \n",
       "2242                              -932  \n",
       "\n",
       "[1 rows x 105 columns]"
      ]
     },
     "execution_count": 12,
     "metadata": {},
     "output_type": "execute_result"
    }
   ],
   "source": [
    "df[df['Gemeinde'].str.contains('Genè')]"
   ]
  },
  {
   "cell_type": "code",
   "execution_count": null,
   "metadata": {
    "collapsed": true
   },
   "outputs": [],
   "source": []
  },
  {
   "cell_type": "code",
   "execution_count": null,
   "metadata": {
    "collapsed": true
   },
   "outputs": [],
   "source": []
  },
  {
   "cell_type": "code",
   "execution_count": null,
   "metadata": {
    "collapsed": false
   },
   "outputs": [],
   "source": [
    "df[['Gemeinde', 'Ledige Männer Total +/-']].sort_values(by='Ledige Männer Total +/-', ascending=False).head()"
   ]
  },
  {
   "cell_type": "code",
   "execution_count": null,
   "metadata": {
    "collapsed": true
   },
   "outputs": [],
   "source": [
    "df['Ledige Frauen Total +/-'] = df['Total ledige Frauen ab 20'] - df['Total ledige Männer ab 20']"
   ]
  },
  {
   "cell_type": "code",
   "execution_count": null,
   "metadata": {
    "collapsed": false
   },
   "outputs": [],
   "source": [
    "df[['Gemeinde', 'Ledige Frauen Total +/-']].sort_values(by='Ledige Frauen Total +/-', ascending=False).head()"
   ]
  },
  {
   "cell_type": "markdown",
   "metadata": {
    "collapsed": true
   },
   "source": [
    "# Datensammlung mit allen Überschüssen M/W pro Alterskategorie"
   ]
  },
  {
   "cell_type": "code",
   "execution_count": 4,
   "metadata": {
    "collapsed": false
   },
   "outputs": [],
   "source": [
    "del df['Unnamed: 0_x']\n",
    "del df['Unnamed: 0_y']\n",
    "del df['Geschlecht_x']\n",
    "del df['Geschlecht_y']"
   ]
  },
  {
   "cell_type": "code",
   "execution_count": 5,
   "metadata": {
    "collapsed": true
   },
   "outputs": [],
   "source": [
    "age_cat_all = list(df.columns)\n",
    "age_cat_w = age_cat_all[4:33]\n",
    "age_cat_w = age_cat_w[::2]"
   ]
  },
  {
   "cell_type": "code",
   "execution_count": 6,
   "metadata": {
    "collapsed": false
   },
   "outputs": [],
   "source": [
    "age_cat_m = list(df.columns)\n",
    "age_cat_m = age_cat_m[41:73][::2]"
   ]
  },
  {
   "cell_type": "code",
   "execution_count": 7,
   "metadata": {
    "collapsed": false
   },
   "outputs": [],
   "source": [
    "for age_w, age_m in zip(age_cat_w, age_cat_m):\n",
    "    df[age_w +'+/-'] = df[age_w] - df[age_m]\n",
    "    df[age_m +'+/-'] = df[age_m] - df[age_w]"
   ]
  },
  {
   "cell_type": "markdown",
   "metadata": {},
   "source": [
    "# Women/Men +/- per 100"
   ]
  },
  {
   "cell_type": "code",
   "execution_count": null,
   "metadata": {
    "collapsed": false
   },
   "outputs": [],
   "source": [
    "#number of women and men plus/minus by 100\n",
    "df_all = pd.read_csv('data/2015_TOTAL_bis100.csv', encoding='latin', sep='\\t', skiprows=1)\n",
    "df_all_2 = pd.read_csv('data/2015_TOTAL_100+.csv', encoding='latin', sep='\\t', skiprows=1)"
   ]
  },
  {
   "cell_type": "code",
   "execution_count": null,
   "metadata": {
    "collapsed": true
   },
   "outputs": [],
   "source": [
    "del df_all_2['Kanton (-) / Bezirk (>>) / Gemeinde (......)']"
   ]
  },
  {
   "cell_type": "code",
   "execution_count": null,
   "metadata": {
    "collapsed": true
   },
   "outputs": [],
   "source": [
    "df_all = pd.concat([df_all, df_all_2], axis=1, join='inner')"
   ]
  },
  {
   "cell_type": "code",
   "execution_count": null,
   "metadata": {
    "collapsed": false
   },
   "outputs": [],
   "source": [
    "del df_all['Bevölkerungstyp']\n",
    "del df_all['Geschlecht']\n",
    "del df_all['Zivilstand']\n",
    "del df_all['Jahr']"
   ]
  },
  {
   "cell_type": "code",
   "execution_count": null,
   "metadata": {
    "collapsed": false
   },
   "outputs": [],
   "source": [
    "df_pro1000 = df_plusminus.merge(df_all, left_on='Gemeinde', right_on='Kanton (-) / Bezirk (>>) / Gemeinde (......)')"
   ]
  },
  {
   "cell_type": "code",
   "execution_count": null,
   "metadata": {
    "collapsed": false
   },
   "outputs": [],
   "source": [
    "#List of total population\n",
    "gemeinde_bev_total = list(df_pro1000.columns[34:])\n",
    "gemeinde_ledige_frauen_total = list(df_pro1000.columns[3:33][::2])\n",
    "gemeinde_ledige_frauen_total.insert(0, 'Ledige Frauen Total +/-')"
   ]
  },
  {
   "cell_type": "code",
   "execution_count": null,
   "metadata": {
    "collapsed": false
   },
   "outputs": [],
   "source": [
    "gemeinde_ledige_männer_total = list(df_pro1000.columns[4:34][::2])\n",
    "Männer_total = df_pro1000.columns[2:3]\n",
    "gemeinde_ledige_männer_total.insert(0, 'Ledige Männer Total +/-')"
   ]
  },
  {
   "cell_type": "code",
   "execution_count": null,
   "metadata": {
    "collapsed": false
   },
   "outputs": [],
   "source": [
    "df_pro1000['Ledige Männer total pro 100'] = round(df_pro1000['Ledige Männer Total +/-'] / df_pro1000['Altersklasse - Total'] * 100, 1)"
   ]
  },
  {
   "cell_type": "code",
   "execution_count": null,
   "metadata": {
    "collapsed": true
   },
   "outputs": [],
   "source": [
    "for value in gemeinde_ledige_frauen_total:\n",
    "    value_name = value.replace('Ledige', '').replace('Total', '').replace('Jahre', ' jährige')\n",
    "    df_pro1000[value_name + ' pro 100'] = round(df_pro1000[value] / df_pro1000['Altersklasse - Total'] * 100, 1)"
   ]
  },
  {
   "cell_type": "code",
   "execution_count": null,
   "metadata": {
    "collapsed": false
   },
   "outputs": [],
   "source": [
    "for value in gemeinde_ledige_männer_total:\n",
    "    value_name = value.replace('Ledige', '').replace('Total', '').replace('Jahre', ' jährige')\n",
    "    df_pro1000[value_name + ' pro 100'] = round(df_pro1000[value] / df_pro1000['Altersklasse - Total'] * 100, 1)"
   ]
  },
  {
   "cell_type": "code",
   "execution_count": null,
   "metadata": {
    "collapsed": false
   },
   "outputs": [],
   "source": [
    "df_pro1000[['Gemeinde', '20-24  jährigeFrauen +/- pro 100']].sort_values(by='20-24  jährigeFrauen +/- pro 100', ascending=False).head()"
   ]
  },
  {
   "cell_type": "markdown",
   "metadata": {},
   "source": [
    "[['Gemeinde', 'Ledige Männer total pro 100']].sort_values(by='Ledige Männer total pro 100', ascending=False).head(5)"
   ]
  },
  {
   "cell_type": "markdown",
   "metadata": {},
   "source": [
    "## All the columns"
   ]
  },
  {
   "cell_type": "code",
   "execution_count": null,
   "metadata": {
    "collapsed": true
   },
   "outputs": [],
   "source": [
    "df.to_csv('All Columns.csv', index=False)"
   ]
  },
  {
   "cell_type": "code",
   "execution_count": null,
   "metadata": {
    "collapsed": true
   },
   "outputs": [],
   "source": [
    "df.to_csv[df.to_csv['Gemeinde']== ]"
   ]
  },
  {
   "cell_type": "markdown",
   "metadata": {},
   "source": [
    "## The absolute number of single men and women"
   ]
  },
  {
   "cell_type": "code",
   "execution_count": 8,
   "metadata": {
    "collapsed": true
   },
   "outputs": [],
   "source": [
    "df_plusminus = pd.concat([pd.DataFrame(df['Gemeinde']), df[list(df.columns[75:])]], axis=1, join='inner')"
   ]
  },
  {
   "cell_type": "code",
   "execution_count": 10,
   "metadata": {
    "collapsed": false
   },
   "outputs": [
    {
     "data": {
      "text/html": [
       "<div>\n",
       "<table border=\"1\" class=\"dataframe\">\n",
       "  <thead>\n",
       "    <tr style=\"text-align: right;\">\n",
       "      <th></th>\n",
       "      <th>Gemeinde</th>\n",
       "      <th>Ledige20-24 JahreFrauen Total+/-</th>\n",
       "      <th>Ledige20-24 JahreMänner Total+/-</th>\n",
       "      <th>Ledige25-29 JahreFrauen Total+/-</th>\n",
       "      <th>Ledige25-29 JahreMänner Total+/-</th>\n",
       "      <th>Ledige30-34 JahreFrauen Total+/-</th>\n",
       "      <th>Ledige30-34 JahreMänner Total+/-</th>\n",
       "      <th>Ledige35-39 JahreFrauen Total+/-</th>\n",
       "      <th>Ledige35-39 JahreMänner Total+/-</th>\n",
       "      <th>Ledige40-44 JahreFrauen Total+/-</th>\n",
       "      <th>...</th>\n",
       "      <th>Ledige70-74 JahreFrauen Total+/-</th>\n",
       "      <th>Ledige70-74 JahreMänner Total+/-</th>\n",
       "      <th>Ledige75-79 JahreFrauen Total+/-</th>\n",
       "      <th>Ledige75-79 JahreMänner Total+/-</th>\n",
       "      <th>Ledige80-84 JahreFrauen Total+/-</th>\n",
       "      <th>Ledige80-84 JahreMänner Total+/-</th>\n",
       "      <th>Ledige85-89 JahreFrauen Total+/-</th>\n",
       "      <th>Ledige85-89 JahreMänner Total+/-</th>\n",
       "      <th>Ledige90-94 JahreFrauen Total+/-</th>\n",
       "      <th>Ledige90-94 JahreMänner Total+/-</th>\n",
       "    </tr>\n",
       "  </thead>\n",
       "  <tbody>\n",
       "    <tr>\n",
       "      <th>2242</th>\n",
       "      <td>......6621 Genève</td>\n",
       "      <td>276</td>\n",
       "      <td>-276</td>\n",
       "      <td>79</td>\n",
       "      <td>-79</td>\n",
       "      <td>-336</td>\n",
       "      <td>336</td>\n",
       "      <td>-212</td>\n",
       "      <td>212</td>\n",
       "      <td>-34</td>\n",
       "      <td>...</td>\n",
       "      <td>1466</td>\n",
       "      <td>-1466</td>\n",
       "      <td>1266</td>\n",
       "      <td>-1266</td>\n",
       "      <td>1499</td>\n",
       "      <td>-1499</td>\n",
       "      <td>1437</td>\n",
       "      <td>-1437</td>\n",
       "      <td>932</td>\n",
       "      <td>-932</td>\n",
       "    </tr>\n",
       "  </tbody>\n",
       "</table>\n",
       "<p>1 rows × 31 columns</p>\n",
       "</div>"
      ],
      "text/plain": [
       "               Gemeinde  Ledige20-24 JahreFrauen Total+/-  \\\n",
       "2242  ......6621 Genève                               276   \n",
       "\n",
       "      Ledige20-24 JahreMänner Total+/-  Ledige25-29 JahreFrauen Total+/-  \\\n",
       "2242                              -276                                79   \n",
       "\n",
       "      Ledige25-29 JahreMänner Total+/-  Ledige30-34 JahreFrauen Total+/-  \\\n",
       "2242                               -79                              -336   \n",
       "\n",
       "      Ledige30-34 JahreMänner Total+/-  Ledige35-39 JahreFrauen Total+/-  \\\n",
       "2242                               336                              -212   \n",
       "\n",
       "      Ledige35-39 JahreMänner Total+/-  Ledige40-44 JahreFrauen Total+/-  \\\n",
       "2242                               212                               -34   \n",
       "\n",
       "                    ...                 Ledige70-74 JahreFrauen Total+/-  \\\n",
       "2242                ...                                             1466   \n",
       "\n",
       "      Ledige70-74 JahreMänner Total+/-  Ledige75-79 JahreFrauen Total+/-  \\\n",
       "2242                             -1466                              1266   \n",
       "\n",
       "      Ledige75-79 JahreMänner Total+/-  Ledige80-84 JahreFrauen Total+/-  \\\n",
       "2242                             -1266                              1499   \n",
       "\n",
       "      Ledige80-84 JahreMänner Total+/-  Ledige85-89 JahreFrauen Total+/-  \\\n",
       "2242                             -1499                              1437   \n",
       "\n",
       "      Ledige85-89 JahreMänner Total+/-  Ledige90-94 JahreFrauen Total+/-  \\\n",
       "2242                             -1437                               932   \n",
       "\n",
       "      Ledige90-94 JahreMänner Total+/-  \n",
       "2242                              -932  \n",
       "\n",
       "[1 rows x 31 columns]"
      ]
     },
     "execution_count": 10,
     "metadata": {},
     "output_type": "execute_result"
    }
   ],
   "source": [
    "df_plusminus[df_plusminus['Gemeinde'].str.contains('Genè')]"
   ]
  },
  {
   "cell_type": "code",
   "execution_count": null,
   "metadata": {
    "collapsed": true
   },
   "outputs": [],
   "source": [
    "def prepping_gemeinde(x):\n",
    "    return x[11:]"
   ]
  },
  {
   "cell_type": "code",
   "execution_count": null,
   "metadata": {
    "collapsed": true
   },
   "outputs": [],
   "source": [
    "df_plusminus['Gemeinde'] = df_plusminus['Gemeinde'].apply(prepping_gemeinde)"
   ]
  },
  {
   "cell_type": "code",
   "execution_count": null,
   "metadata": {
    "collapsed": true
   },
   "outputs": [],
   "source": [
    "df_plusminus.to_csv('final_dataset_totals.csv', index=False)"
   ]
  },
  {
   "cell_type": "markdown",
   "metadata": {},
   "source": [
    "## Men/Women +/- per 100 inhabitants"
   ]
  },
  {
   "cell_type": "code",
   "execution_count": null,
   "metadata": {
    "collapsed": false
   },
   "outputs": [],
   "source": [
    "#Pulling out relevant columns\n",
    "final_dataset = pd.concat([pd.DataFrame(df_pro1000.loc[:, 'Gemeinde']), df_pro1000.loc[:, ' Frauen  +/- pro 100':]], axis=1, join='inner')"
   ]
  },
  {
   "cell_type": "code",
   "execution_count": null,
   "metadata": {
    "collapsed": false
   },
   "outputs": [],
   "source": [
    "final_dataset['Gemeinde'] = final_dataset['Gemeinde'].apply(prepping_gemeinde)"
   ]
  },
  {
   "cell_type": "code",
   "execution_count": null,
   "metadata": {
    "collapsed": true
   },
   "outputs": [],
   "source": [
    "final_dataset.to_csv('final_dataset_per100.csv', index=False)"
   ]
  },
  {
   "cell_type": "code",
   "execution_count": null,
   "metadata": {
    "collapsed": true
   },
   "outputs": [],
   "source": []
  }
 ],
 "metadata": {
  "kernelspec": {
   "display_name": "Python 3",
   "language": "python",
   "name": "python3"
  },
  "language_info": {
   "codemirror_mode": {
    "name": "ipython",
    "version": 3
   },
   "file_extension": ".py",
   "mimetype": "text/x-python",
   "name": "python",
   "nbconvert_exporter": "python",
   "pygments_lexer": "ipython3",
   "version": "3.5.1"
  },
  "widgets": {
   "state": {},
   "version": "1.1.2"
  }
 },
 "nbformat": 4,
 "nbformat_minor": 0
}
